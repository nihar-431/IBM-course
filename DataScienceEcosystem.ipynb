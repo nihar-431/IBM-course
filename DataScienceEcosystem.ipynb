{
 "cells": [
  {
   "cell_type": "markdown",
   "id": "847bbe72-dcef-4e0a-92ab-f815df3b3100",
   "metadata": {},
   "source": [
    "# Data Science Tools and Ecosystem"
   ]
  },
  {
   "cell_type": "markdown",
   "id": "47fab5f5-90a4-4b1a-8664-6c1b0865be76",
   "metadata": {},
   "source": [
    "In this notebook, Data Science Tools and Ecosystem are summarized."
   ]
  },
  {
   "cell_type": "markdown",
   "id": "3a3d3fa6-7cb7-4c79-a910-5acbbd0f455a",
   "metadata": {},
   "source": [
    "**Objectives:**\n",
    "- Popular libraries in DS\n",
    "- popular languages in DS\n",
    "- making use of tables\n",
    "- Simple arithmetic"
   ]
  },
  {
   "cell_type": "markdown",
   "id": "d13e3da4-aaf4-4fe6-8d7a-6f051780ff23",
   "metadata": {},
   "source": [
    "Some of the popular languages that Data Scientists use are:\n",
    "1. Python\n",
    "2. SQL\n",
    "3. R\n",
    "4. Scala"
   ]
  },
  {
   "cell_type": "markdown",
   "id": "74ecd81b-e348-4f08-8b4a-b2beb835d1ea",
   "metadata": {},
   "source": [
    "Some of the commonly used libraries used by Data Scientists include:\n",
    "1. numpy\n",
    "2. gg plot\n",
    "3. pandas\n",
    "4. scikitlearn"
   ]
  },
  {
   "cell_type": "markdown",
   "id": "2064d234-b58b-49b7-8467-7b4a4051b65d",
   "metadata": {},
   "source": [
    "|Data Science tools |\n",
    "| ----------------- |\n",
    "|jupyter lab|\n",
    "|Git Hub|\n",
    "|Anaconda|"
   ]
  },
  {
   "cell_type": "markdown",
   "id": "62eb4b58-71a8-4c47-ad4b-c191eb6e83f0",
   "metadata": {},
   "source": [
    "### Below are a few examples of evaluating arithmetic expressions in Python"
   ]
  },
  {
   "cell_type": "code",
   "execution_count": 17,
   "id": "955e4f05-497d-489b-8b45-99037a8bac5a",
   "metadata": {},
   "outputs": [
    {
     "data": {
      "text/plain": [
       "17"
      ]
     },
     "execution_count": 17,
     "metadata": {},
     "output_type": "execute_result"
    }
   ],
   "source": [
    "#This a simple arithmetic expression to mutiply then add integers\n",
    "(3*4)+5"
   ]
  },
  {
   "cell_type": "code",
   "execution_count": 19,
   "id": "44617a27-6991-4779-999d-9eedebfeaccc",
   "metadata": {},
   "outputs": [
    {
     "data": {
      "text/plain": [
       "3.3333333333333335"
      ]
     },
     "execution_count": 19,
     "metadata": {},
     "output_type": "execute_result"
    }
   ],
   "source": [
    "#This will convert 200 minutes to hours by dividing by 60\n",
    "200/60"
   ]
  },
  {
   "cell_type": "markdown",
   "id": "771cc141-6cca-401c-bbd9-9e392555a05d",
   "metadata": {},
   "source": [
    "## Author\n",
    "Nihar"
   ]
  },
  {
   "cell_type": "code",
   "execution_count": null,
   "id": "74c81a4a-283d-4938-aa78-be3c42251ac6",
   "metadata": {},
   "outputs": [],
   "source": []
  }
 ],
 "metadata": {
  "kernelspec": {
   "display_name": "Python 3 (ipykernel)",
   "language": "python",
   "name": "python3"
  },
  "language_info": {
   "codemirror_mode": {
    "name": "ipython",
    "version": 3
   },
   "file_extension": ".py",
   "mimetype": "text/x-python",
   "name": "python",
   "nbconvert_exporter": "python",
   "pygments_lexer": "ipython3",
   "version": "3.12.4"
  }
 },
 "nbformat": 4,
 "nbformat_minor": 5
}
